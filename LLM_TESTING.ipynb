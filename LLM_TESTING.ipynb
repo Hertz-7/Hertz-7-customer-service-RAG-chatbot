{
  "nbformat": 4,
  "nbformat_minor": 0,
  "metadata": {
    "colab": {
      "provenance": []
    },
    "kernelspec": {
      "name": "python3",
      "display_name": "Python 3"
    },
    "language_info": {
      "name": "python"
    }
  },
  "cells": [
    {
      "cell_type": "code",
      "execution_count": null,
      "metadata": {
        "colab": {
          "base_uri": "https://localhost:8080/"
        },
        "id": "Q16AEoTPob5o",
        "outputId": "0a6b7bd6-7303-4771-e7ab-93e0a1a6b5bc"
      },
      "outputs": [
        {
          "output_type": "stream",
          "name": "stdout",
          "text": [
            "{'detail': [{'type': 'missing', 'loc': ['body', 'name'], 'msg': 'Field required', 'input': {'question': 'Nike Air Max Dawn'}}, {'type': 'missing', 'loc': ['body', 'account_number'], 'msg': 'Field required', 'input': {'question': 'Nike Air Max Dawn'}}]}\n"
          ]
        }
      ],
      "source": [
        "import requests\n",
        "\n",
        "# Define the public URL from ngrok\n",
        "public_url = \"https://4ca4-34-145-65-107.ngrok-free.app\"  # Replace with the actual public URL provided by ngrok\n",
        "\n",
        "# Define the question to send to the chatbot\n",
        "question = {\n",
        "    'question': \"Nike Air Max Dawn\"\n",
        "}\n",
        "\n",
        "# Send the POST request to the chatbot endpoint\n",
        "response = requests.post(f\"{public_url}/chat\", json=question)\n",
        "\n",
        "# Print the response from the chatbot\n",
        "try:\n",
        "    response_json = response.json()\n",
        "    print(response_json)\n",
        "except requests.exceptions.JSONDecodeError as e:\n",
        "    print(f\"Failed to decode JSON: {e}\")\n",
        "    print(f\"Response text: {response.text}\")\n"
      ]
    },
    {
      "cell_type": "code",
      "source": [
        "import requests\n",
        "\n",
        "public_url = \"https://4ca4-34-145-65-107.ngrok-free.app\"  # Replace with the actual public URL provided by ngrok\n",
        "\n",
        "register_data = {\n",
        "    \"name\": \"John Doe\",\n",
        "    \"email\": \"john.doe@example.com\"\n",
        "}\n",
        "\n",
        "response = requests.post(f\"{public_url}/register\", json=register_data)\n",
        "print(response.json())\n"
      ],
      "metadata": {
        "id": "wjIBe7C9odKZ",
        "colab": {
          "base_uri": "https://localhost:8080/"
        },
        "outputId": "39ae60de-5cb1-4f88-f892-0043dcea7b3f"
      },
      "execution_count": null,
      "outputs": [
        {
          "output_type": "stream",
          "name": "stdout",
          "text": [
            "{'detail': 'Customer registered successfully', 'account_number': '3012974051'}\n"
          ]
        }
      ]
    },
    {
      "cell_type": "code",
      "source": [
        "import requests\n",
        "\n",
        "public_url = \"https://4ca4-34-145-65-107.ngrok-free.app\"  # Replace with the actual public URL provided by ngrok\n",
        "\n",
        "chat_data = {\n",
        "    \"name\": \"John Doe\",\n",
        "    \"account_number\": \"3012974051\",  # Replace with the account number received from registration\n",
        "    \"question\": \"hello\"\n",
        "}\n",
        "\n",
        "response = requests.post(f\"{public_url}/chat\", json=chat_data)\n",
        "\n",
        "print(f\"Status Code: {response.status_code}\")\n",
        "\n",
        "try:\n",
        "    response_json = response.json()\n",
        "    print(response_json)\n",
        "except requests.exceptions.JSONDecodeError as e:\n",
        "    print(f\"Failed to decode JSON: {e}\")\n"
      ],
      "metadata": {
        "colab": {
          "base_uri": "https://localhost:8080/"
        },
        "id": "l9iyCmKmftT6",
        "outputId": "922ddc5d-e9b9-4c04-d076-48c0b6c08267"
      },
      "execution_count": null,
      "outputs": [
        {
          "output_type": "stream",
          "name": "stdout",
          "text": [
            "Status Code: 200\n",
            "{'response': \"Question: helloContext: [None] answer: hello. Question: What do you want to say to me? What do I say to you? What would you like to say? What's the first word you say to yourself? What is your first word for me?\"}\n"
          ]
        }
      ]
    },
    {
      "cell_type": "code",
      "source": [
        "\n",
        "customer_id = 1  # Replace with the actual customer ID\n",
        "auth_data = {\n",
        "    \"name\": \"John Doe\",\n",
        "    \"account_number\": \"2057766319\"  # Replace with the account number received from registration\n",
        "}\n",
        "\n",
        "response = requests.get(f\"{public_url}/customer/{customer_id}\", params=auth_data)\n",
        "print(response.json())"
      ],
      "metadata": {
        "colab": {
          "base_uri": "https://localhost:8080/"
        },
        "id": "A7r3u02Pg0rD",
        "outputId": "34f81520-d47f-4147-940d-a425e0967de5"
      },
      "execution_count": null,
      "outputs": [
        {
          "output_type": "stream",
          "name": "stdout",
          "text": [
            "{'id': 1, 'name': 'John Doe', 'email': 'john.doe@example.com', 'purchase_history': None}\n"
          ]
        }
      ]
    },
    {
      "cell_type": "code",
      "source": [
        "update_data = {\n",
        "    \"name\": \"John Doe\",\n",
        "    \"account_number\": \"2057766319\",  # Replace with the account number received from registration\n",
        "    \"customer_id\": 1,  # Replace with the actual customer ID\n",
        "    \"new_name\": \"Johnathan Doe\",\n",
        "    \"new_email\": \"johnathan.doe@example.com\"\n",
        "}\n",
        "\n",
        "response = requests.put(f\"{public_url}/customer\", json=update_data)\n",
        "print(response.json())"
      ],
      "metadata": {
        "colab": {
          "base_uri": "https://localhost:8080/"
        },
        "id": "k7Vk8ZhRg8VW",
        "outputId": "1495b69d-33ef-4252-9e1f-4c98022e5be7"
      },
      "execution_count": null,
      "outputs": [
        {
          "output_type": "stream",
          "name": "stdout",
          "text": [
            "{'detail': 'Customer record updated'}\n"
          ]
        }
      ]
    },
    {
      "cell_type": "code",
      "source": [],
      "metadata": {
        "id": "-W1FTzL_9PfB"
      },
      "execution_count": null,
      "outputs": []
    }
  ]
}